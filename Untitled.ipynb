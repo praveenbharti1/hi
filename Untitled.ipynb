{
 "cells": [
  {
   "cell_type": "code",
   "execution_count": 1,
   "id": "9fdfac56-3571-437c-8e01-983b9d8b02da",
   "metadata": {
    "tags": []
   },
   "outputs": [
    {
     "ename": "ModuleNotFoundError",
     "evalue": "No module named 'hume'",
     "output_type": "error",
     "traceback": [
      "\u001b[1;31m---------------------------------------------------------------------------\u001b[0m",
      "\u001b[1;31mModuleNotFoundError\u001b[0m                       Traceback (most recent call last)",
      "Cell \u001b[1;32mIn[1], line 1\u001b[0m\n\u001b[1;32m----> 1\u001b[0m \u001b[38;5;28;01mfrom\u001b[39;00m \u001b[38;5;21;01mhume\u001b[39;00m \u001b[38;5;28;01mimport\u001b[39;00m HumeBatchClient\n\u001b[0;32m      2\u001b[0m \u001b[38;5;28;01mfrom\u001b[39;00m \u001b[38;5;21;01mhume\u001b[39;00m\u001b[38;5;21;01m.\u001b[39;00m\u001b[38;5;21;01mmodels\u001b[39;00m\u001b[38;5;21;01m.\u001b[39;00m\u001b[38;5;21;01mconfig\u001b[39;00m \u001b[38;5;28;01mimport\u001b[39;00m FaceConfig\n\u001b[0;32m      4\u001b[0m client \u001b[38;5;241m=\u001b[39m HumeBatchClient(\u001b[38;5;124m\"\u001b[39m\u001b[38;5;124mFHSCeIA1V9VqI6Ac8H8iCGcQnB4OG0mpKbrEqRPq2BnFPA3Q\u001b[39m\u001b[38;5;124m\"\u001b[39m)\n",
      "\u001b[1;31mModuleNotFoundError\u001b[0m: No module named 'hume'"
     ]
    }
   ],
   "source": [
    "from hume import HumeBatchClient\n",
    "from hume.models.config import FaceConfig\n",
    "\n",
    "client = HumeBatchClient(\"FHSCeIA1V9VqI6Ac8H8iCGcQnB4OG0mpKbrEqRPq2BnFPA3Q\")\n",
    "urls = [\"https://hume-tutorials.s3.amazonaws.com/face.zip\"]\n",
    "config = FaceConfig()\n",
    "job = client.submit_job(urls, [config])\n",
    "\n",
    "print(job)\n",
    "print(\"Running...\")\n",
    "\n",
    "job.await_complete()\n",
    "prediction = job.get_prediction()\n",
    "print(prediction)"
   ]
  },
  {
   "cell_type": "code",
   "execution_count": 3,
   "id": "966cddfc-6661-4d3e-8114-5725127111d8",
   "metadata": {
    "tags": []
   },
   "outputs": [
    {
     "name": "stdout",
     "output_type": "stream",
     "text": [
      "Requirement already satisfied: hume[stream] in c:\\users\\prvnb\\anaconda3\\lib\\site-packages (0.4.2)\n",
      "Requirement already satisfied: requests<3.0.0,>=2.28.2 in c:\\users\\prvnb\\anaconda3\\lib\\site-packages (from hume[stream]) (2.31.0)\n",
      "Requirement already satisfied: typing-extensions<5.0.0,>=4.3.0 in c:\\users\\prvnb\\anaconda3\\lib\\site-packages (from hume[stream]) (4.10.0)\n",
      "Requirement already satisfied: websockets<11.0,>=10.3 in c:\\users\\prvnb\\anaconda3\\lib\\site-packages (from hume[stream]) (10.4)\n",
      "Requirement already satisfied: charset-normalizer<4,>=2 in c:\\users\\prvnb\\anaconda3\\lib\\site-packages (from requests<3.0.0,>=2.28.2->hume[stream]) (2.0.4)\n",
      "Requirement already satisfied: idna<4,>=2.5 in c:\\users\\prvnb\\anaconda3\\lib\\site-packages (from requests<3.0.0,>=2.28.2->hume[stream]) (3.4)\n",
      "Requirement already satisfied: urllib3<3,>=1.21.1 in c:\\users\\prvnb\\anaconda3\\lib\\site-packages (from requests<3.0.0,>=2.28.2->hume[stream]) (1.26.16)\n",
      "Requirement already satisfied: certifi>=2017.4.17 in c:\\users\\prvnb\\anaconda3\\lib\\site-packages (from requests<3.0.0,>=2.28.2->hume[stream]) (2023.7.22)\n",
      "Note: you may need to restart the kernel to use updated packages.\n"
     ]
    },
    {
     "name": "stderr",
     "output_type": "stream",
     "text": [
      "\n",
      "[notice] A new release of pip is available: 23.3.1 -> 24.0\n",
      "[notice] To update, run: C:\\Users\\prvnb\\anaconda3\\python.exe -m pip install --upgrade pip\n"
     ]
    }
   ],
   "source": [
    "pip install \"hume[stream]\""
   ]
  },
  {
   "cell_type": "code",
   "execution_count": null,
   "id": "c7daf4ce-b0e1-4f65-9997-2343007d6b53",
   "metadata": {},
   "outputs": [],
   "source": []
  }
 ],
 "metadata": {
  "kernelspec": {
   "display_name": "Python 3 (ipykernel)",
   "language": "python",
   "name": "python3"
  },
  "language_info": {
   "codemirror_mode": {
    "name": "ipython",
    "version": 3
   },
   "file_extension": ".py",
   "mimetype": "text/x-python",
   "name": "python",
   "nbconvert_exporter": "python",
   "pygments_lexer": "ipython3",
   "version": "3.10.9"
  }
 },
 "nbformat": 4,
 "nbformat_minor": 5
}
